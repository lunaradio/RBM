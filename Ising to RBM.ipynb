{
 "cells": [
  {
   "cell_type": "code",
   "execution_count": 60,
   "metadata": {},
   "outputs": [],
   "source": [
    "import torch\n",
    "import numpy as np"
   ]
  },
  {
   "cell_type": "code",
   "execution_count": 95,
   "metadata": {},
   "outputs": [],
   "source": [
    "def Ising(nRow, nCol):\n",
    "    ising = torch.zeros(nRow, nCol)\n",
    "    x = torch.rand(nRow, nCol)\n",
    "    for i in range(nRow):\n",
    "        for j in range(nCol):\n",
    "            if x[i,j] < 0.5:\n",
    "                    ising[i,j] = 0\n",
    "            else:\n",
    "                    ising[i,j] = 1\n",
    "    return ising"
   ]
  },
  {
   "cell_type": "code",
   "execution_count": 97,
   "metadata": {},
   "outputs": [],
   "source": [
    "def Hamiltonian(ising):\n",
    "    H = 0\n",
    "    J = 1\n",
    "    for i in range(nRow):\n",
    "        for j in range(nCol):\n",
    "                if i < 1:\n",
    "                    H -= J * ising[i,j] * ising[i+1,j]\n",
    "                elif i > nRow - 2:\n",
    "                    H -= J * ising[i,j] * ising[i-1,j]\n",
    "                else:\n",
    "                    H -= J * ising[i,j] * ising[i+1,j]\n",
    "                    H -= J * ising[i,j] * ising[i-1,j]\n",
    "                \n",
    "                if j < 1:\n",
    "                    H -= J * ising[i,j] * ising[i,j+1]\n",
    "                elif j > nCol - 2:\n",
    "                    H -= J * ising[i,j] * ising[i,j-1]\n",
    "                else:\n",
    "                    H -= J * ising[i,j] * ising[i,j+1]\n",
    "                    H -= J * ising[i,j] * ising[i,j-1]\n",
    "    return H/2   #to avoid double count"
   ]
  },
  {
   "cell_type": "code",
   "execution_count": 55,
   "metadata": {},
   "outputs": [
    {
     "name": "stdout",
     "output_type": "stream",
     "text": [
      "tensor([1, 1, 1, 0, 1, 1, 1, 0, 0, 0, 1, 1, 1, 1, 0, 1], dtype=torch.int32)\n"
     ]
    }
   ],
   "source": [
    "visible = ising.view(nRow*nCol)\n",
    "print(visible)"
   ]
  },
  {
   "cell_type": "code",
   "execution_count": 56,
   "metadata": {},
   "outputs": [],
   "source": [
    "class RBM():\n",
    "    def __init__(self, nv, nh):\n",
    "        self.W = torch.randn(nh, nv)\n",
    "        self.a = torch.randn(1, nh)\n",
    "        self.b = torch.randn(1, nv)\n",
    "\n",
    "    def sample_h(self, x):\n",
    "        wx = torch.mm(x, self.W.t())\n",
    "        activation = wx + self.a.expand_as(wx)\n",
    "        p_h_given_v = torch.sigmoid(activation)\n",
    "        return p_h_given_v, torch.bernoulli(p_h_given_v)\n",
    "\n",
    "    def sample_v(self, y):\n",
    "        wy = torch.mm(y, self.W)\n",
    "        activation = wy + self.b.expand_as(wy)\n",
    "        p_v_given_h = torch.sigmoid(activation)\n",
    "        return p_v_given_h, torch.bernoulli(p_v_given_h)\n",
    "\n",
    "    def train(self, v0, vk, ph0, phk):\n",
    "        self.W += torch.mm(v0.t(), ph0) - torch.mm(vk.t(), phk)\n",
    "        self.b += torch.sum((v0 - vk), 0)\n",
    "        self.a += torch.sum((ph0 - phk), 0)"
   ]
  },
  {
   "cell_type": "code",
   "execution_count": 57,
   "metadata": {},
   "outputs": [],
   "source": [
    "nv = len(visible)\n",
    "nh = 10\n",
    "batch_size = 10\n",
    "rbm = RBM(nv, nh)"
   ]
  },
  {
   "cell_type": "code",
   "execution_count": 59,
   "metadata": {},
   "outputs": [
    {
     "data": {
      "text/plain": [
       "tensor([[ 1.5756,  0.6087, -0.6850, -2.3785,  0.6885, -0.6935, -0.0844, -0.8821,\n",
       "          2.8655,  0.7690, -1.2783, -0.9531,  1.5025,  0.8976,  0.5784,  0.0060]])"
      ]
     },
     "execution_count": 59,
     "metadata": {},
     "output_type": "execute_result"
    }
   ],
   "source": [
    "rbm.b"
   ]
  },
  {
   "cell_type": "code",
   "execution_count": null,
   "metadata": {},
   "outputs": [],
   "source": []
  }
 ],
 "metadata": {
  "kernelspec": {
   "display_name": "Python 3",
   "language": "python",
   "name": "python3"
  },
  "language_info": {
   "codemirror_mode": {
    "name": "ipython",
    "version": 3
   },
   "file_extension": ".py",
   "mimetype": "text/x-python",
   "name": "python",
   "nbconvert_exporter": "python",
   "pygments_lexer": "ipython3",
   "version": "3.6.7"
  }
 },
 "nbformat": 4,
 "nbformat_minor": 2
}
