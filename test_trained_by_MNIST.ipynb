{
 "cells": [
  {
   "cell_type": "code",
   "execution_count": 11,
   "metadata": {
    "scrolled": true
   },
   "outputs": [
    {
     "name": "stdout",
     "output_type": "stream",
     "text": [
      "Top 2 guesses are\n",
      "8 with prob 0.4443\n",
      "9 with prob 0.2320\n"
     ]
    },
    {
     "data": {
      "image/png": "[encoded data removed]",
      "text/plain": [
       "<matplotlib.figure.Figure at 0x7f9ce26f6908>"
      ]
     },
     "metadata": {
      "needs_background": "light"
     },
     "output_type": "display_data"
    }
   ],
   "source": [
    "import torch\n",
    "import torch.nn as nn\n",
    "import torch.nn.functional as F\n",
    "from main import Net\n",
    "from scipy import misc\n",
    "import matplotlib.pyplot as plt\n",
    "\n",
    "model = Net()\n",
    "model.load_state_dict(torch.load('mnist_cnn.pt'))\n",
    "model.eval()\n",
    "\n",
    "img = misc.imread('9.bmp', flatten=True)\n",
    "img = (255-img)/255\n",
    "plt.imshow(img)\n",
    "\n",
    "img2d = torch.from_numpy(img)\n",
    "img3d = img2d.unsqueeze(0)\n",
    "img4d = img3d.unsqueeze(0)\n",
    "\n",
    "output = torch.exp(model.forward(img4d))\n",
    "top_probs, top_labels = output.topk(2)\n",
    "\n",
    "print(\"Top 2 guesses are\")\n",
    "print(\"%d with prob %6.4f\" % (top_labels[0,0], top_probs[0,0]))\n",
    "print(\"%d with prob %6.4f\" % (top_labels[0,1], top_probs[0,1]))"
   ]
  },
  {
   "cell_type": "code",
   "execution_count": null,
   "metadata": {},
   "outputs": [],
   "source": []
  }
 ],
 "metadata": {
  "kernelspec": {
   "display_name": "Python 3",
   "language": "python",
   "name": "python3"
  },
  "language_info": {
   "codemirror_mode": {
    "name": "ipython",
    "version": 3
   },
   "file_extension": ".py",
   "mimetype": "text/x-python",
   "name": "python",
   "nbconvert_exporter": "python",
   "pygments_lexer": "ipython3",
   "version": "3.6.7"
  }
 },
 "nbformat": 4,
 "nbformat_minor": 2
}
